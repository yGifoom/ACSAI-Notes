{
 "cells": [
  {
   "cell_type": "code",
   "execution_count": 1,
   "metadata": {
    "metadata": {}
   },
   "outputs": [],
   "source": [
    "from sklearn.neural_network import MLPClassifier\n",
    "#from sklearn.datasets import fetch_openml\n",
    "from sklearn.datasets import load_digits\n",
    "from sklearn.model_selection import train_test_split\n",
    "from sklearn.metrics import accuracy_score"
   ]
  },
  {
   "cell_type": "code",
   "execution_count": 2,
   "metadata": {
    "metadata": {}
   },
   "outputs": [],
   "source": [
    "# take the dataset\n",
    "#X, y = fetch_openml(\"mnist_784\", return_X_y = True)\n",
    "D = load_digits()\n",
    "X, y = D.data, D.target"
   ]
  },
  {
   "cell_type": "code",
   "execution_count": 24,
   "metadata": {
    "metadata": {}
   },
   "outputs": [
    {
     "name": "stderr",
     "output_type": "stream",
     "text": [
      "/home/ygifoom/.local/lib/python3.10/site-packages/sklearn/neural_network/_multilayer_perceptron.py:691: ConvergenceWarning: Stochastic Optimizer: Maximum iterations (200) reached and the optimization hasn't converged yet.\n",
      "  warnings.warn(\n"
     ]
    }
   ],
   "source": [
    "# create train & test datasets\n",
    "X_train, X_test, y_train, y_test = train_test_split(X,y, train_size=.7)\n",
    "\n",
    "# create MPL\n",
    "model = MLPClassifier(hidden_layer_sizes=(10,))\n",
    "\n",
    "# TRAIN \n",
    "model.fit(X_train, y_train)\n",
    "\n",
    "# test the model\n",
    "y_pred = model.predict(X_test)"
   ]
  },
  {
   "cell_type": "code",
   "execution_count": 25,
   "metadata": {
    "metadata": {}
   },
   "outputs": [
    {
     "name": "stdout",
     "output_type": "stream",
     "text": [
      "0.9444444444444444\n"
     ]
    }
   ],
   "source": [
    "# benchmark\n",
    "acc = accuracy_score(y_true = y_test, y_pred = y_pred)\n",
    "\n",
    "print(acc)"
   ]
  },
  {
   "cell_type": "markdown",
   "metadata": {},
   "source": [
    "# With torch"
   ]
  },
  {
   "cell_type": "code",
   "execution_count": 1,
   "metadata": {
    "metadata": {}
   },
   "outputs": [
    {
     "name": "stderr",
     "output_type": "stream",
     "text": [
      "/home/ygifoom/.local/lib/python3.10/site-packages/matplotlib/projections/__init__.py:63: UserWarning: Unable to import Axes3D. This may be due to multiple versions of Matplotlib being installed (e.g. as a system package and as a pip package). As a result, the 3D projection is not available.\n",
      "  warnings.warn(\"Unable to import Axes3D. This may be due to multiple versions of \"\n"
     ]
    }
   ],
   "source": [
    "import torch\n",
    "from torch.utils.data import dataloader\n",
    "from torchvision import datasets\n",
    "from torchvision.transforms import ToTensor\n",
    "from torch import nn\n",
    "import torchmetrics"
   ]
  },
  {
   "cell_type": "code",
   "execution_count": 15,
   "metadata": {
    "metadata": {}
   },
   "outputs": [],
   "source": [
    "# importing the dataset\n",
    "training_data = datasets.FashionMNIST(\n",
    "    root=\"pytorch_datasets\",\n",
    "    train=True,\n",
    "    download=True,\n",
    "    transform = ToTensor() # transforming the data insto tensor\n",
    "    \n",
    "    \n",
    ")\n",
    "test_data = datasets.FashionMNIST(\n",
    "    root=\"pytorch_datasets\",\n",
    "    train=False,\n",
    "    download=True,\n",
    "    transform = ToTensor() # transforming the data insto tensor\n",
    "    \n",
    ")\n",
    "\n",
    "if torch.cuda.is_available():\n",
    "    device = \"cuda\"\n",
    "else:\n",
    "    device = \"cpu\""
   ]
  },
  {
   "cell_type": "code",
   "execution_count": 16,
   "metadata": {
    "metadata": {}
   },
   "outputs": [
    {
     "ename": "TypeError",
     "evalue": "'module' object is not callable",
     "output_type": "error",
     "traceback": [
      "\u001b[0;31m---------------------------------------------------------------------------\u001b[0m",
      "\u001b[0;31mTypeError\u001b[0m                                 Traceback (most recent call last)",
      "Cell \u001b[0;32mIn[16], line 37\u001b[0m\n\u001b[1;32m     34\u001b[0m optimizer \u001b[38;5;241m=\u001b[39m torch\u001b[38;5;241m.\u001b[39moptim\u001b[38;5;241m.\u001b[39mSGD(model\u001b[38;5;241m.\u001b[39mparameters(), lr \u001b[38;5;241m=\u001b[39m learning_rate)\n\u001b[1;32m     36\u001b[0m \u001b[38;5;66;03m# create dataloader\u001b[39;00m\n\u001b[0;32m---> 37\u001b[0m train_dataloader \u001b[38;5;241m=\u001b[39m \u001b[43mdataloader\u001b[49m\u001b[43m(\u001b[49m\u001b[43mtraining_data\u001b[49m\u001b[43m,\u001b[49m\u001b[43m \u001b[49m\u001b[43mbatch_size\u001b[49m\u001b[38;5;241;43m=\u001b[39;49m\u001b[43m \u001b[49m\u001b[43mbatch_size\u001b[49m\u001b[43m)\u001b[49m\n\u001b[1;32m     38\u001b[0m test_dataloader \u001b[38;5;241m=\u001b[39m dataloader(test_data, batch_size\u001b[38;5;241m=\u001b[39mbatch_size)\n\u001b[1;32m     40\u001b[0m \u001b[38;5;66;03m# define accuracy matric, task can be multiclass, multilabel.... (labels are inside classes)\u001b[39;00m\n",
      "\u001b[0;31mTypeError\u001b[0m: 'module' object is not callable"
     ]
    }
   ],
   "source": [
    "class OurMlp(nn.Module):\n",
    "    def __init__(self):\n",
    "        super().__init__()\n",
    "        # specify input size and output size\n",
    "        self.mlp = nn.Sequential(\n",
    "        nn.Linear(28*28, 50),\n",
    "        nn.Sigmoid(),\n",
    "        nn.Linear(50, 100),\n",
    "        nn.Sigmoid(),\n",
    "        nn.Linear(100, 50),\n",
    "        nn.Sigmoid(),\n",
    "        nn.Linear(50, 10)\n",
    "        )\n",
    "        self.flatten = nn.Flatten()\n",
    "        \n",
    "    def forward(self, x):\n",
    "        x = self.flatten(x)\n",
    "        logits = self.mlp(x)\n",
    "        return logits\n",
    "\n",
    "# instance of the model\n",
    "model = OurMlp()\n",
    "model.to(device)\n",
    "\n",
    "# define the hyperparameters\n",
    "epochs = 2\n",
    "batch_size = 16\n",
    "learning_rate = 0.001\n",
    "\n",
    "# define the loss function\n",
    "loss_fn = nn.CrossEntropyLoss()\n",
    "\n",
    "# define the optimazer (adamW is a good optimizer)\n",
    "optimizer = torch.optim.SGD(model.parameters(), lr = learning_rate)\n",
    "\n",
    "# create dataloader\n",
    "train_dataloader = dataloader(training_data, batch_size= batch_size)\n",
    "test_dataloader = dataloader(test_data, batch_size=batch_size)\n",
    "\n",
    "# define accuracy matric, task can be multiclass, multilabel.... (labels are inside classes)\n",
    "metric = torchmetrics.Accuracy(task=\"multiclass\", num_classes=10)\n",
    "\n",
    "# define training loop\n",
    "def train_loop(dataloader, model, loss_fn, optimizer):\n",
    "    size = len(dataloader)\n",
    "    \n",
    "    for batch, (X,y) in enumerate(dataloader):\n",
    "        X = X.to(device)\n",
    "        y = y.to(device)\n",
    "        \n",
    "        # compute the prediction and the loss\n",
    "        pred = model(X)\n",
    "        loss = loss_fn(pred, y)\n",
    "        \n",
    "        # adjusting the weights \n",
    "        loss.backward()\n",
    "        optimizer.step()\n",
    "        optimizer.zero_grad()\n",
    "        \n",
    "        # print some info\n",
    "        if batch % 20 == 0:\n",
    "            loss_v = current_batch =loss.item(), (batch+1) * len(X)        \n",
    "            print(f\"loss: {loss_v} [{current_batch}/{size}]\")\n",
    "            acc = metric(pred, y)\n",
    "            print(f\"accuracy of current batch: {acc}\")\n",
    "    \n",
    "    acc = metric.compute()\n",
    "    print(f\"Final accuracy: {acc}\")\n",
    "    metric.reset()\n",
    "\n",
    "# and now for the actual testing loop\n",
    "def test_loop(dataloader, model, loss_fn):\n",
    "    size = len(dataloader)\n",
    "    \n",
    "    # disble updating of weights for this is test\n",
    "    with torch.no_grad():\n",
    "        for X,y in dataloader:\n",
    "            # move data to correct device\n",
    "            X = X.to(device)\n",
    "            y = y.to(device)\n",
    "            \n",
    "            # get predictions\n",
    "            pred = model(X)\n",
    "            \n",
    "            # final accuracy\n",
    "            acc = metric(pred, y)\n",
    "    \n",
    "    acc = metric.compute()\n",
    "    print(f\"final accuracy score: {acc}\")\n",
    "    metric.reset()\n",
    "    \n",
    "\n",
    "# train\n",
    "for epoch in range(epochs):\n",
    "    print(f\"Epoch: {epoch}\")\n",
    "    train_loop(train_dataloader, model, loss_fn, optimizer)\n",
    "test_loop(test_dataloader, model, loss_fn, optimizer)\n",
    "\n",
    "acc = metric.compute()\n",
    "print(f\"final accuracy: {acc}\")\n",
    "print(f\"done!\")\n",
    "            "
   ]
  },
  {
   "cell_type": "code",
   "execution_count": null,
   "metadata": {},
   "outputs": [],
   "source": [
    "# different way to specify the layers\n",
    "\n",
    "class OurMlp(nn.Module):\n",
    "    def __init__(self):\n",
    "        \n",
    "        # specify input size and output size\n",
    "        self.input_layer = nn.Linear(28*28, 50)\n",
    "        self.activation = nn.Sigmoid()\n",
    "        self.hidden1 = nn.Linear(50, 100)\n",
    "        self.hidden2 = nn.Linear(100, 50)\n",
    "        self.output_layer = nn.Linear(50, 10)\n",
    "        self.flatten = nn.Flatten()\n",
    "        \n",
    "    def forward(self, x):\n",
    "        x = self.flatten(x)\n",
    "        x = self.flatten(x)\n",
    "        logits = self.mlp(x)\n",
    "        return logits\n",
    "\n",
    "# instance of the model\n",
    "model = OurMlp().to(device)\n",
    "\n",
    "# define the hyperparameters\n",
    "epochs = 2\n",
    "batch_size = 16\n",
    "learning_rate = 0.001\n",
    "\n",
    "# define the loss function\n",
    "loss_fn = nn.CrossEntropyLoss()\n",
    "\n",
    "# define the optimazer (adamW is a good optimizer)\n",
    "optimizer = torch.optim.SGD(model.parameters(), lr = learning_rate)\n",
    "\n",
    "# create dataloader\n",
    "train_dataloader = dataloader(training_data, batch_size= batch_size)\n",
    "test_dataloader = dataloader(test_data, batch_size=batch_size)\n",
    "\n",
    "# define accuracy matric, task can be multiclass, multilabel.... (labels are inside classes)\n",
    "metric = torchmetrics.Accuracy(task=\"multiclass\", num_classes=10)\n",
    "\n",
    "# define training loop\n",
    "def train_loop(dataloader, model, loss_fn, optimizer):\n",
    "    size = len(dataloader)\n",
    "    \n",
    "    for batch, (X,y) in enumerate(dataloader):\n",
    "        X = X.to(device)\n",
    "        y = y.to(device)\n",
    "        \n",
    "        # compute the prediction and the loss\n",
    "        pred = model(X)\n",
    "        loss = loss_fn(pred, y)\n",
    "        \n",
    "        # adjusting the weights \n",
    "        loss.backward()\n",
    "        optimizer.step()\n",
    "        optimizer.zero_grad()\n",
    "        \n",
    "        # print some info\n",
    "        if batch % 20 == 0:\n",
    "            loss_v = current_batch =loss.item(), (batch+1) * len(X)        \n",
    "            print(f\"loss: {loss_v} [{current_batch}/{size}]\")\n",
    "            acc = metric(pred, y)\n",
    "            print(f\"accuracy of current batch: {acc}\")\n",
    "    \n",
    "    acc = metric.compute()\n",
    "    print(f\"Final accuracy: {acc}\")\n",
    "    metric.reset()\n",
    "\n",
    "# and now for the actual testing loop\n",
    "def test_loop(dataloader, model, loss_fn):\n",
    "    size = len(dataloader)\n",
    "    \n",
    "    # disble updating of weights for this is test\n",
    "    with torch.no_grad():\n",
    "        for X,y in dataloader:\n",
    "            # move data to correct device\n",
    "            X = X.to(device)\n",
    "            y = y.to(device)\n",
    "            \n",
    "            # get predictions\n",
    "            pred = model(X)\n",
    "            \n",
    "            # final accuracy\n",
    "            acc = metric(pred, y)\n",
    "    \n",
    "    acc = metric.compute()\n",
    "    print(f\"final accuracy score: {acc}\")\n",
    "    metric.reset()\n",
    "    \n",
    "\n",
    "# train\n",
    "for epoch in range(epochs):\n",
    "    print(f\"Epoch: {epoch}\")\n",
    "    train_loop(train_dataloader, model, loss_fn, optimizer)\n",
    "test_loop(test_dataloader, model, loss_fn, optimizer)\n",
    "\n",
    "acc = metric.compute()\n",
    "print(f\"final accuracy: {acc}\")\n",
    "print(f\"done!\")\n",
    "            "
   ]
  }
 ],
 "metadata": {
  "kernelspec": {
   "display_name": "Python 3",
   "language": "python",
   "name": "python3"
  },
  "language_info": {
   "codemirror_mode": {
    "name": "ipython",
    "version": 3
   },
   "file_extension": ".py",
   "mimetype": "text/x-python",
   "name": "python",
   "nbconvert_exporter": "python",
   "pygments_lexer": "ipython3",
   "version": "3.10.12"
  }
 },
 "nbformat": 4,
 "nbformat_minor": 2
}
