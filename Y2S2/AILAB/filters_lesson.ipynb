{
 "cells": [
  {
   "cell_type": "markdown",
   "metadata": {},
   "source": [
    "# Filters!"
   ]
  },
  {
   "cell_type": "code",
   "execution_count": 1,
   "metadata": {},
   "outputs": [],
   "source": [
    "import cv2\n",
    "import numpy as np"
   ]
  },
  {
   "cell_type": "code",
   "execution_count": 2,
   "metadata": {},
   "outputs": [],
   "source": [
    "img = cv2.imread(\"gerry scotti.jpg\")\n",
    "\n",
    "# let us apply a kernel to this image\n",
    "\n",
    "my_kernel = np.array(\n",
    "    #[\n",
    "    #    [0,-1,0],\n",
    "    #    [-1,5,-1],\n",
    "    #    [0,-1,0]\n",
    "    #]\n",
    " # why divide by 9?\n",
    "\n",
    "\n",
    "    # contour detection (x direction)\n",
    "    [\n",
    "        [-1, 0, 1],\n",
    "        [-2, 0, 2],\n",
    "        [-1, 0, 1]\n",
    "    ]\n",
    "\n",
    "    # conttour detection (y direction)\n",
    "    #[\n",
    "    #    [-1, -2, -1],\n",
    "    #    [0, 0, 0],\n",
    "    #    [1, 2, 1]\n",
    "    #]\n",
    ") \n",
    "# RMK: a filter cannot make things negative, so after applying the transforms in the two directions \n",
    "# we must do:\n",
    "# G = sqrt(Gx^2+Gy^2) or G = abs(Gx) + abs(Gy)\n",
    "\n",
    "filtered_img = cv2.filter2D(img,-1,my_kernel)\n",
    "\n",
    "cv2.imshow(\"blorg\",filtered_img)\n",
    "cv2.waitKey()\n",
    "cv2.destroyAllWindows()"
   ]
  },
  {
   "cell_type": "code",
   "execution_count": 16,
   "metadata": {},
   "outputs": [],
   "source": [
    "#blurred_img = np.imageblur()"
   ]
  },
  {
   "cell_type": "markdown",
   "metadata": {},
   "source": [
    "# Sobel & Laplacian filters"
   ]
  },
  {
   "cell_type": "code",
   "execution_count": 17,
   "metadata": {},
   "outputs": [],
   "source": [
    "img_gray = cv2.cvtColor(img, cv2.COLOR_BGR2GRAY)\n",
    "\n",
    "# Sobel function does not take care of negative values, but converts everything to greyscale\n",
    "der_x = cv2.Sobel(img_gray, -1, 1, 0) # do x derivative? yes. do y derivative? no\n",
    "der_y = cv2.Sobel(img_gray, -1, 0, 1) # do y derivative? yes. do x derivative? no\n",
    "\n",
    "scaled_x = cv2.convertScaleAbs(der_x)\n",
    "scaled_y = cv2.convertScaleAbs(der_y)\n",
    "\n",
    "cv2.imshow(\"some features of blorg\",scaled_x)\n",
    "cv2.waitKey()\n",
    "cv2.destroyAllWindows()"
   ]
  },
  {
   "cell_type": "code",
   "execution_count": 19,
   "metadata": {},
   "outputs": [],
   "source": [
    "# to compute the contours of both axis\n",
    "out = cv2.addWeighted(scaled_x, 0.5, scaled_y, 0.5,0)\n",
    "cv2.imshow(\"contours of blorg\",scaled_x)\n",
    "cv2.waitKey()\n",
    "cv2.destroyAllWindows()"
   ]
  },
  {
   "cell_type": "code",
   "execution_count": 24,
   "metadata": {},
   "outputs": [],
   "source": [
    "laplacian = cv2.Laplacian(img, -1, (3,3)) # -1 for the number of channels\n",
    "scaled_l = cv2.convertScaleAbs(laplacian)\n",
    "\n",
    "cv2.imshow(\"laplacian contours of blorg\",scaled_l)\n",
    "cv2.waitKey()\n",
    "cv2.destroyAllWindows()"
   ]
  },
  {
   "cell_type": "markdown",
   "metadata": {},
   "source": [
    "# Cartoonized Filter"
   ]
  },
  {
   "cell_type": "code",
   "execution_count": 3,
   "metadata": {},
   "outputs": [],
   "source": [
    "img = cv2.imread(\"Lenna_(test_image).png\")\n",
    "def cartoonize(img):\n",
    "    img_gray = cv2.cvtColor(img, cv2.COLOR_BGR2GRAY)\n",
    "\n",
    "    # apply a light blur for cleaning the image\n",
    "    img_gray = cv2.medianBlur(img_gray, 5)\n",
    "\n",
    "    # take the edges \n",
    "    edges = cv2.Laplacian(img_gray, cv2.CV_8U, ksize=5) # specify 8 bit Unsigned image (greyscale)\n",
    "    '''der_x = cv2.Sobel(img_gray, -1, 1, 0) # do x derivative? yes. do y derivative? no\n",
    "    der_y = cv2.Sobel(img_gray, -1, 0, 1) # do y derivative? yes. do x derivative? no\n",
    "\n",
    "    scaled_x = cv2.convertScaleAbs(der_x)\n",
    "    scaled_y = cv2.convertScaleAbs(der_y)\n",
    "\n",
    "    edges = cv2.addWeighted(scaled_x, 0.5, scaled_y, 0.5,0)'''\n",
    "\n",
    "\n",
    "    # threashold the edges image to get only the good edges\n",
    "    ret, threasholded = cv2.threshold(edges, 100, 255, cv2.THRESH_BINARY_INV) # cotour lines are white\n",
    "\n",
    "    # Bilateral filter to uniform the color inside the edges without blurring them\n",
    "    color_img = cv2.bilateralFilter(img, 10, 250, 250) # high numbers, keep a lot of color\n",
    "\n",
    "    # unite the contours and color blur\n",
    "    skt = cv2.cvtColor(threasholded, cv2.COLOR_GRAY2BGR)\n",
    "\n",
    "    # bitwise AND operation to extract\n",
    "    return cv2.bitwise_and(color_img, skt) # add weighted would have blended two images\n",
    "\n",
    "out = cartoonize(img)\n",
    "\n",
    "cv2.imshow(\"Cartoonzed\",out)\n",
    "cv2.waitKey()\n",
    "cv2.destroyAllWindows()\n",
    "\n"
   ]
  }
 ],
 "metadata": {
  "kernelspec": {
   "display_name": "Python 3",
   "language": "python",
   "name": "python3"
  },
  "language_info": {
   "codemirror_mode": {
    "name": "ipython",
    "version": 3
   },
   "file_extension": ".py",
   "mimetype": "text/x-python",
   "name": "python",
   "nbconvert_exporter": "python",
   "pygments_lexer": "ipython3",
   "version": "3.10.12"
  }
 },
 "nbformat": 4,
 "nbformat_minor": 2
}
