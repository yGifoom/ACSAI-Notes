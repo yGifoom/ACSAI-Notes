{
 "cells": [
  {
   "cell_type": "code",
   "execution_count": 2,
   "id": "b7dd4612-55f3-41b3-839f-b2d3f8ddcfef",
   "metadata": {},
   "outputs": [],
   "source": [
    "from __future__ import annotations\n",
    "from typing import Protocol, List, TypeVar, Optional\n",
    "import collections\n",
    "\n",
    "T = TypeVar('T')\n",
    "Location = TypeVar('Location')"
   ]
  },
  {
   "cell_type": "code",
   "execution_count": 4,
   "id": "acbe6f78-9350-4824-8d54-aaadf328bf6c",
   "metadata": {},
   "outputs": [],
   "source": [
    "class Graph(Protocol):\n",
    "    def neighbor(self, _id: Location) -> List[Location]:\n",
    "        pass\n",
    "\n",
    "class SimpleGraph(Graph):\n",
    "    def __init__(self) -> None:\n",
    "        self.edges: dict[Location, List[Location]] = {}\n",
    "\n",
    "    def neighbor(self, _id: Location) -> List[Location]:\n",
    "        return self.edges.get(_id, [])"
   ]
  },
  {
   "cell_type": "code",
   "execution_count": 7,
   "id": "e4ded3ad-e9bc-4cb7-8e8b-c48ef426411e",
   "metadata": {},
   "outputs": [],
   "source": [
    "class Queue:\n",
    "    def __init__(self) -> None:\n",
    "        self.elements: collections.dequeue[T] = collections.dequeue()\n",
    "\n",
    "    def empty(self) -> bool:\n",
    "        return not self.elements\n",
    "\n",
    "    def put(self, x: T) -> None:\n",
    "        self.elements.append(x)\n",
    "\n",
    "    def get(self) -> T:\n",
    "        return self.elements.popleft()"
   ]
  },
  {
   "cell_type": "code",
   "execution_count": 8,
   "id": "983aedf8-5705-4911-b185-e4635c99afc9",
   "metadata": {},
   "outputs": [],
   "source": [
    "example_graph = SimpleGraph()"
   ]
  },
  {
   "cell_type": "code",
   "execution_count": 9,
   "id": "ed7bbc2b-619a-4db2-9a1d-ec0649f69d83",
   "metadata": {},
   "outputs": [],
   "source": [
    "example_graph = {\n",
    "    'A': ['B'],\n",
    "    'B': ['C'],\n",
    "    'C': ['B', 'D', 'F'],\n",
    "    'D': ['C', 'E'],\n",
    "    'E': ['F'],\n",
    "    'F': []\n",
    "}"
   ]
  },
  {
   "cell_type": "code",
   "execution_count": null,
   "id": "90e0408c-1000-4bfc-8b08-2028e278afa3",
   "metadata": {},
   "outputs": [],
   "source": [
    "def bfs(graph: Graph, start: Location) -> None:\n",
    "    frontier = Queue()\n",
    "    frontier.put(start)\n",
    "\n",
    "    reached: dict[Location, bool] = {start: True}\n",
    "    while not frontier.empty():\n",
    "        current: Location = frontier.get()\n",
    "        print(f\"Visiting {current}\")\n",
    "\n",
    "        for next_location in current.neighbor(cu"
   ]
  }
 ],
 "metadata": {
  "kernelspec": {
   "display_name": "Python 3 (ipykernel)",
   "language": "python",
   "name": "python3"
  },
  "language_info": {
   "codemirror_mode": {
    "name": "ipython",
    "version": 3
   },
   "file_extension": ".py",
   "mimetype": "text/x-python",
   "name": "python",
   "nbconvert_exporter": "python",
   "pygments_lexer": "ipython3",
   "version": "3.11.8"
  }
 },
 "nbformat": 4,
 "nbformat_minor": 5
}
