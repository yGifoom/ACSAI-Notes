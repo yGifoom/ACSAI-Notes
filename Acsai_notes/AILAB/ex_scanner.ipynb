{
 "cells": [
  {
   "cell_type": "markdown",
   "metadata": {},
   "source": [
    "# Scanner gui\n"
   ]
  },
  {
   "cell_type": "code",
   "execution_count": 1,
   "metadata": {},
   "outputs": [],
   "source": [
    "import cv2\n",
    "import numpy as np"
   ]
  },
  {
   "cell_type": "code",
   "execution_count": 2,
   "metadata": {},
   "outputs": [],
   "source": [
    "# we will extract the image of gerry from its context and rotate it\n",
    "img = cv2.imread(\"gerry.png\")\n",
    "\n",
    "img_copy = np.copy(img) # we'll be drawing on these, rotating the original one\n",
    "\n",
    "\n",
    "# corner coords\n",
    "# t1 - 28,227\n",
    "# bl - 131, 987\n",
    "# br - 730 860\n",
    "# tr - 572 147\n",
    "\n",
    "# defining the starting points\n",
    "src_points = []\n",
    "\n",
    "# destination points of Image of size 600, 800\n",
    "dst_points = np.array(\n",
    "    [\n",
    "        [0,0],\n",
    "        [0, 800],\n",
    "        [600, 800],\n",
    "        [600, 0]\n",
    "    ], np.float32\n",
    ")"
   ]
  },
  {
   "cell_type": "code",
   "execution_count": 3,
   "metadata": {},
   "outputs": [],
   "source": [
    "def on_click(event, x, y, flags, param):\n",
    "    if event == cv2.EVENT_LBUTTONDOWN:\n",
    "        if len(src_points) < 4:\n",
    "            src_points.append([x, y])\n",
    "            cv2.circle(img_copy, (x,y), 10, (0,0,255), -1) # last param is for thickness, if it is -1 the circle is filled\n",
    "            cv2.imshow(\"Img\", img_copy)"
   ]
  },
  {
   "cell_type": "code",
   "execution_count": 4,
   "metadata": {},
   "outputs": [],
   "source": [
    "# create window and gui for src point selection\n",
    "cv2.namedWindow(\"Img\") # name of window used as hanle for callback\n",
    "cv2.setMouseCallback(\"Img\", on_click)\n",
    "\n",
    "# show the image for the first time\n",
    "cv2.imshow(\"Img\", img_copy)\n",
    "cv2.waitKey(0)\n",
    "cv2.destroyAllWindows()"
   ]
  },
  {
   "cell_type": "code",
   "execution_count": 5,
   "metadata": {},
   "outputs": [
    {
     "name": "stdout",
     "output_type": "stream",
     "text": [
      "[[ 1.18270735e+00 -1.67915241e-01 -3.04948680e+01]\n",
      " [ 4.40885008e-01  2.67155320e+00 -1.11322940e+03]\n",
      " [-3.78356253e-05  1.54347634e-04  1.00000000e+00]]\n"
     ]
    }
   ],
   "source": [
    "# find the matrix which transforms the 4 starting point to the 4 dst points\n",
    "src_float = np.array(src_points, dtype=np.float32)\n",
    "M = cv2.getPerspectiveTransform(src_float, dst_points)\n",
    "print(M)"
   ]
  },
  {
   "cell_type": "code",
   "execution_count": 6,
   "metadata": {},
   "outputs": [],
   "source": [
    "# applying the trasformation to the image\n",
    "out_img = cv2.warpPerspective(img, M, (600, 800))"
   ]
  },
  {
   "cell_type": "code",
   "execution_count": 7,
   "metadata": {},
   "outputs": [],
   "source": [
    "cv2.imshow(\"result\", out_img)\n",
    "cv2.waitKey(0)\n",
    "cv2.destroyAllWindows()"
   ]
  },
  {
   "cell_type": "markdown",
   "metadata": {},
   "source": []
  }
 ],
 "metadata": {
  "kernelspec": {
   "display_name": "Python 3",
   "language": "python",
   "name": "python3"
  },
  "language_info": {
   "codemirror_mode": {
    "name": "ipython",
    "version": 3
   },
   "file_extension": ".py",
   "mimetype": "text/x-python",
   "name": "python",
   "nbconvert_exporter": "python",
   "pygments_lexer": "ipython3",
   "version": "3.10.12"
  }
 },
 "nbformat": 4,
 "nbformat_minor": 2
}
